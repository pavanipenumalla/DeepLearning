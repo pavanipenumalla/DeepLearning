{
 "cells": [
  {
   "cell_type": "code",
   "execution_count": 1,
   "id": "c97bd838",
   "metadata": {
    "execution": {
     "iopub.execute_input": "2023-11-21T21:38:57.091354Z",
     "iopub.status.busy": "2023-11-21T21:38:57.090983Z",
     "iopub.status.idle": "2023-11-21T21:39:00.949320Z",
     "shell.execute_reply": "2023-11-21T21:39:00.947944Z"
    },
    "papermill": {
     "duration": 3.867057,
     "end_time": "2023-11-21T21:39:00.951707",
     "exception": false,
     "start_time": "2023-11-21T21:38:57.084650",
     "status": "completed"
    },
    "tags": []
   },
   "outputs": [],
   "source": [
    "import torch\n",
    "import torch.nn as nn\n",
    "import torch.optim as optim\n",
    "import numpy as np\n",
    "import matplotlib.pyplot as plt\n",
    "import torchvision.datasets as datasets\n",
    "import torchvision.transforms as transforms"
   ]
  },
  {
   "cell_type": "code",
   "execution_count": 2,
   "id": "5c2aa931",
   "metadata": {
    "execution": {
     "iopub.execute_input": "2023-11-21T21:39:00.963373Z",
     "iopub.status.busy": "2023-11-21T21:39:00.962677Z",
     "iopub.status.idle": "2023-11-21T21:39:01.033004Z",
     "shell.execute_reply": "2023-11-21T21:39:01.032168Z"
    },
    "papermill": {
     "duration": 0.078285,
     "end_time": "2023-11-21T21:39:01.035492",
     "exception": false,
     "start_time": "2023-11-21T21:39:00.957207",
     "status": "completed"
    },
    "tags": []
   },
   "outputs": [],
   "source": [
    "torch.manual_seed(0)\n",
    "device = torch.device(\"cuda:0\" if torch.cuda.is_available() else \"cpu\")\n",
    "\n",
    "# Hyperparameters.\n",
    "batch_size = 128\n",
    "num_epochs = 25\n",
    "lr = 0.0002\n",
    "beta1 = 0.5\n",
    "beta2 = 0.999\n",
    "noise_dim = 100\n",
    "generator_filters = 64\n",
    "discriminator_filters = 64\n",
    "channels = 3"
   ]
  },
  {
   "cell_type": "code",
   "execution_count": 3,
   "id": "733a4dd7",
   "metadata": {
    "execution": {
     "iopub.execute_input": "2023-11-21T21:39:01.046026Z",
     "iopub.status.busy": "2023-11-21T21:39:01.045702Z",
     "iopub.status.idle": "2023-11-21T21:39:01.050819Z",
     "shell.execute_reply": "2023-11-21T21:39:01.049901Z"
    },
    "papermill": {
     "duration": 0.012606,
     "end_time": "2023-11-21T21:39:01.052826",
     "exception": false,
     "start_time": "2023-11-21T21:39:01.040220",
     "status": "completed"
    },
    "tags": []
   },
   "outputs": [],
   "source": [
    "transform=transforms.Compose([\n",
    "                               transforms.Resize(64),\n",
    "                               transforms.ToTensor(),\n",
    "                               transforms.Normalize((0.5, 0.5, 0.5), (0.5, 0.5, 0.5)),\n",
    "                           ])"
   ]
  },
  {
   "cell_type": "code",
   "execution_count": 4,
   "id": "678f8f63",
   "metadata": {
    "execution": {
     "iopub.execute_input": "2023-11-21T21:39:01.066976Z",
     "iopub.status.busy": "2023-11-21T21:39:01.066644Z",
     "iopub.status.idle": "2023-11-21T21:39:08.879248Z",
     "shell.execute_reply": "2023-11-21T21:39:08.878392Z"
    },
    "papermill": {
     "duration": 7.820809,
     "end_time": "2023-11-21T21:39:08.881681",
     "exception": false,
     "start_time": "2023-11-21T21:39:01.060872",
     "status": "completed"
    },
    "tags": []
   },
   "outputs": [
    {
     "name": "stdout",
     "output_type": "stream",
     "text": [
      "Downloading https://www.cs.toronto.edu/~kriz/cifar-10-python.tar.gz to ./data/cifar-10-python.tar.gz\n"
     ]
    },
    {
     "name": "stderr",
     "output_type": "stream",
     "text": [
      "100%|██████████| 170498071/170498071 [00:04<00:00, 35011364.59it/s]\n"
     ]
    },
    {
     "name": "stdout",
     "output_type": "stream",
     "text": [
      "Extracting ./data/cifar-10-python.tar.gz to ./data\n"
     ]
    }
   ],
   "source": [
    "train_dataset = datasets.CIFAR10(root='./data', train=True, download=True, transform=transform)\n",
    "train_loader = torch.utils.data.DataLoader(train_dataset, batch_size=batch_size, shuffle=True)"
   ]
  },
  {
   "cell_type": "code",
   "execution_count": 5,
   "id": "5c3fc8d2",
   "metadata": {
    "execution": {
     "iopub.execute_input": "2023-11-21T21:39:08.900454Z",
     "iopub.status.busy": "2023-11-21T21:39:08.900136Z",
     "iopub.status.idle": "2023-11-21T21:39:08.910194Z",
     "shell.execute_reply": "2023-11-21T21:39:08.909270Z"
    },
    "papermill": {
     "duration": 0.021758,
     "end_time": "2023-11-21T21:39:08.912132",
     "exception": false,
     "start_time": "2023-11-21T21:39:08.890374",
     "status": "completed"
    },
    "tags": []
   },
   "outputs": [],
   "source": [
    "# generator class\n",
    "class Generator(nn.Module):\n",
    "    def __init__(self, noise_dim, generator_filters, channels):\n",
    "        super(Generator, self).__init__()\n",
    "        self.noise_dim = noise_dim\n",
    "        self.generator_filters = generator_filters\n",
    "        self.channels = channels\n",
    "        self.main = nn.Sequential(\n",
    "            nn.ConvTranspose2d(self.noise_dim, self.generator_filters * 8, 4, 1, 0, bias=False),\n",
    "            nn.BatchNorm2d(self.generator_filters * 8),\n",
    "            nn.ReLU(True),\n",
    "            # (gen_filters*8) x 4 x 4.\n",
    "            nn.ConvTranspose2d(self.generator_filters * 8, self.generator_filters * 4, 4, 2, 1, bias=False),\n",
    "            nn.BatchNorm2d(self.generator_filters * 4),\n",
    "            nn.ReLU(True),\n",
    "            # (gen_filters*4) x 8 x 8.\n",
    "            nn.ConvTranspose2d(self.generator_filters * 4, self.generator_filters * 2, 4, 2, 1, bias=False),\n",
    "            nn.BatchNorm2d(self.generator_filters * 2),\n",
    "            nn.ReLU(True),\n",
    "            # (gen_filters*2) x 16 x 16.\n",
    "            nn.ConvTranspose2d(self.generator_filters * 2, self.generator_filters, 4, 2, 1, bias=False),\n",
    "            nn.BatchNorm2d(self.generator_filters),\n",
    "            nn.ReLU(True),\n",
    "            # gen_filters x 32 x 32.\n",
    "            nn.ConvTranspose2d(self.generator_filters, self.channels, 4, 2, 1, bias=False),\n",
    "            nn.Tanh()\n",
    "            # channels x 64 x 64.\n",
    "        )\n",
    "\n",
    "    def forward(self, input):\n",
    "        return self.main(input)"
   ]
  },
  {
   "cell_type": "code",
   "execution_count": 6,
   "id": "c9dba24b",
   "metadata": {
    "execution": {
     "iopub.execute_input": "2023-11-21T21:39:08.930278Z",
     "iopub.status.busy": "2023-11-21T21:39:08.929903Z",
     "iopub.status.idle": "2023-11-21T21:39:08.939423Z",
     "shell.execute_reply": "2023-11-21T21:39:08.938562Z"
    },
    "papermill": {
     "duration": 0.021007,
     "end_time": "2023-11-21T21:39:08.941423",
     "exception": false,
     "start_time": "2023-11-21T21:39:08.920416",
     "status": "completed"
    },
    "tags": []
   },
   "outputs": [],
   "source": [
    "# discriminator class\n",
    "class Discriminator(nn.Module):\n",
    "    def __init__(self, channels, discriminator_filters):\n",
    "        super(Discriminator, self).__init__()\n",
    "        self.channels = channels\n",
    "        self.discriminator_filters = discriminator_filters\n",
    "        self.main = nn.Sequential(\n",
    "            # channels x 64 x 64.\n",
    "            nn.Conv2d(self.channels, self.discriminator_filters, 4, 2, 1, bias=False),\n",
    "            nn.LeakyReLU(0.2, inplace=True),\n",
    "            # disc_filters x 32 x 32.\n",
    "            nn.Conv2d(self.discriminator_filters, self.discriminator_filters * 2, 4, 2, 1, bias=False),\n",
    "            nn.BatchNorm2d(self.discriminator_filters * 2),\n",
    "            nn.LeakyReLU(0.2, inplace=True),\n",
    "            # (disc_filters*2) x 16 x 16.\n",
    "            nn.Conv2d(self.discriminator_filters * 2, self.discriminator_filters * 4, 4, 2, 1, bias=False),\n",
    "            nn.BatchNorm2d(self.discriminator_filters * 4),\n",
    "            nn.LeakyReLU(0.2, inplace=True),\n",
    "            # (disc_filters*4) x 8 x 8.\n",
    "            nn.Conv2d(self.discriminator_filters * 4, self.discriminator_filters * 8, 4, 2, 1, bias=False),\n",
    "            nn.BatchNorm2d(self.discriminator_filters * 8),\n",
    "            nn.LeakyReLU(0.2, inplace=True),\n",
    "            # (disc_filters*8) x 4 x 4.\n",
    "            nn.Conv2d(self.discriminator_filters * 8, 1, 4, 1, 0, bias=False),\n",
    "            nn.Sigmoid()\n",
    "        )\n",
    "\n",
    "    def forward(self, input):\n",
    "        return self.main(input)"
   ]
  },
  {
   "cell_type": "code",
   "execution_count": 7,
   "id": "452ab98e",
   "metadata": {
    "execution": {
     "iopub.execute_input": "2023-11-21T21:39:08.959743Z",
     "iopub.status.busy": "2023-11-21T21:39:08.959423Z",
     "iopub.status.idle": "2023-11-21T21:39:08.964835Z",
     "shell.execute_reply": "2023-11-21T21:39:08.963879Z"
    },
    "papermill": {
     "duration": 0.016577,
     "end_time": "2023-11-21T21:39:08.966833",
     "exception": false,
     "start_time": "2023-11-21T21:39:08.950256",
     "status": "completed"
    },
    "tags": []
   },
   "outputs": [],
   "source": [
    "def weights_init(m):\n",
    "    classname = m.__class__.__name__\n",
    "    if classname.find('Conv') != -1:\n",
    "        m.weight.data.normal_(0.0, 0.02)\n",
    "    elif classname.find('BatchNorm') != -1:\n",
    "        m.weight.data.normal_(1.0, 0.02)\n",
    "        m.bias.data.fill_(0)"
   ]
  },
  {
   "cell_type": "code",
   "execution_count": 8,
   "id": "87b4f0ca",
   "metadata": {
    "execution": {
     "iopub.execute_input": "2023-11-21T21:39:08.984860Z",
     "iopub.status.busy": "2023-11-21T21:39:08.984597Z",
     "iopub.status.idle": "2023-11-21T21:39:11.963510Z",
     "shell.execute_reply": "2023-11-21T21:39:11.962607Z"
    },
    "papermill": {
     "duration": 2.990469,
     "end_time": "2023-11-21T21:39:11.965882",
     "exception": false,
     "start_time": "2023-11-21T21:39:08.975413",
     "status": "completed"
    },
    "tags": []
   },
   "outputs": [],
   "source": [
    "# Initializing the generator and the discriminator.\n",
    "generator = Generator(noise_dim, generator_filters, channels).to(device)\n",
    "discriminator = Discriminator(channels, discriminator_filters).to(device)\n",
    "\n",
    "# Initializing the weights.\n",
    "generator.apply(weights_init)\n",
    "discriminator.apply(weights_init)\n",
    "\n",
    "# loss function.\n",
    "criterion = nn.BCELoss()\n",
    "\n",
    "# optimizer.\n",
    "optimizerD = optim.Adam(discriminator.parameters(), lr=lr, betas=(beta1, beta2))\n",
    "optimizerG = optim.Adam(generator.parameters(), lr=lr, betas=(beta1, beta2))\n",
    "\n",
    "# Training.\n",
    "img_list = []\n",
    "G_losses = []\n",
    "D_losses = []\n",
    "iters = 0\n",
    "\n",
    "fixed_noise = torch.randn(64, noise_dim, 1, 1, device=device)"
   ]
  },
  {
   "cell_type": "code",
   "execution_count": 9,
   "id": "cbfba628",
   "metadata": {
    "execution": {
     "iopub.execute_input": "2023-11-21T21:39:11.984958Z",
     "iopub.status.busy": "2023-11-21T21:39:11.984617Z",
     "iopub.status.idle": "2023-11-21T21:59:50.581716Z",
     "shell.execute_reply": "2023-11-21T21:59:50.580717Z"
    },
    "papermill": {
     "duration": 1238.60901,
     "end_time": "2023-11-21T21:59:50.584027",
     "exception": false,
     "start_time": "2023-11-21T21:39:11.975017",
     "status": "completed"
    },
    "tags": []
   },
   "outputs": [
    {
     "name": "stdout",
     "output_type": "stream",
     "text": [
      "Starting Training Loop...\n",
      "[0/25][0/391]\tLoss_D: 1.7290\tLoss_G: 5.8882\tD(x): 0.4755\tD(G(z)): 0.5069 / 0.0042\n",
      "[0/25][50/391]\tLoss_D: 0.1261\tLoss_G: 5.3106\tD(x): 0.9521\tD(G(z)): 0.0642 / 0.0093\n",
      "[0/25][100/391]\tLoss_D: 0.0963\tLoss_G: 10.2426\tD(x): 0.9199\tD(G(z)): 0.0027 / 0.0001\n",
      "[0/25][150/391]\tLoss_D: 1.9920\tLoss_G: 14.8096\tD(x): 0.9657\tD(G(z)): 0.8148 / 0.0000\n",
      "[0/25][200/391]\tLoss_D: 0.8294\tLoss_G: 5.7980\tD(x): 0.9588\tD(G(z)): 0.4394 / 0.0074\n",
      "[0/25][250/391]\tLoss_D: 0.2856\tLoss_G: 8.2156\tD(x): 0.9692\tD(G(z)): 0.2168 / 0.0004\n",
      "[0/25][300/391]\tLoss_D: 0.7707\tLoss_G: 4.8384\tD(x): 0.9695\tD(G(z)): 0.4230 / 0.0344\n",
      "[0/25][350/391]\tLoss_D: 0.2650\tLoss_G: 4.0470\tD(x): 0.8597\tD(G(z)): 0.0747 / 0.0280\n",
      "[1/25][0/391]\tLoss_D: 0.3423\tLoss_G: 5.3158\tD(x): 0.9137\tD(G(z)): 0.1958 / 0.0076\n",
      "[1/25][50/391]\tLoss_D: 0.3431\tLoss_G: 4.4449\tD(x): 0.9381\tD(G(z)): 0.2095 / 0.0193\n",
      "[1/25][100/391]\tLoss_D: 0.8231\tLoss_G: 4.2617\tD(x): 0.8895\tD(G(z)): 0.4479 / 0.0215\n",
      "[1/25][150/391]\tLoss_D: 0.4297\tLoss_G: 2.5771\tD(x): 0.7507\tD(G(z)): 0.0839 / 0.1130\n",
      "[1/25][200/391]\tLoss_D: 0.5282\tLoss_G: 2.3025\tD(x): 0.7383\tD(G(z)): 0.1358 / 0.1582\n",
      "[1/25][250/391]\tLoss_D: 1.3676\tLoss_G: 3.2767\tD(x): 0.6632\tD(G(z)): 0.4827 / 0.0594\n",
      "[1/25][300/391]\tLoss_D: 0.5023\tLoss_G: 3.1204\tD(x): 0.8011\tD(G(z)): 0.2124 / 0.0584\n",
      "[1/25][350/391]\tLoss_D: 1.0293\tLoss_G: 1.3855\tD(x): 0.5209\tD(G(z)): 0.2244 / 0.3061\n",
      "[2/25][0/391]\tLoss_D: 0.3194\tLoss_G: 3.4017\tD(x): 0.8693\tD(G(z)): 0.1430 / 0.0452\n",
      "[2/25][50/391]\tLoss_D: 0.7918\tLoss_G: 5.0321\tD(x): 0.9287\tD(G(z)): 0.4572 / 0.0095\n",
      "[2/25][100/391]\tLoss_D: 0.3440\tLoss_G: 3.7436\tD(x): 0.8779\tD(G(z)): 0.1740 / 0.0325\n",
      "[2/25][150/391]\tLoss_D: 0.4843\tLoss_G: 2.9987\tD(x): 0.7944\tD(G(z)): 0.1800 / 0.0708\n",
      "[2/25][200/391]\tLoss_D: 1.4004\tLoss_G: 2.7445\tD(x): 0.3707\tD(G(z)): 0.0241 / 0.1268\n",
      "[2/25][250/391]\tLoss_D: 0.7065\tLoss_G: 4.1007\tD(x): 0.9158\tD(G(z)): 0.3980 / 0.0285\n",
      "[2/25][300/391]\tLoss_D: 2.0471\tLoss_G: 1.9011\tD(x): 0.1919\tD(G(z)): 0.0073 / 0.2690\n",
      "[2/25][350/391]\tLoss_D: 0.3529\tLoss_G: 4.7686\tD(x): 0.8949\tD(G(z)): 0.1835 / 0.0123\n",
      "[3/25][0/391]\tLoss_D: 0.4801\tLoss_G: 2.5147\tD(x): 0.7104\tD(G(z)): 0.0519 / 0.1120\n",
      "[3/25][50/391]\tLoss_D: 1.2407\tLoss_G: 1.9863\tD(x): 0.3716\tD(G(z)): 0.0137 / 0.2078\n",
      "[3/25][100/391]\tLoss_D: 0.4154\tLoss_G: 2.7344\tD(x): 0.7405\tD(G(z)): 0.0665 / 0.0890\n",
      "[3/25][150/391]\tLoss_D: 0.3265\tLoss_G: 3.9480\tD(x): 0.9021\tD(G(z)): 0.1799 / 0.0285\n",
      "[3/25][200/391]\tLoss_D: 0.6822\tLoss_G: 4.8444\tD(x): 0.8596\tD(G(z)): 0.3574 / 0.0125\n",
      "[3/25][250/391]\tLoss_D: 0.7189\tLoss_G: 3.0347\tD(x): 0.6860\tD(G(z)): 0.1717 / 0.0946\n",
      "[3/25][300/391]\tLoss_D: 1.1550\tLoss_G: 4.6076\tD(x): 0.7077\tD(G(z)): 0.4649 / 0.0150\n",
      "[3/25][350/391]\tLoss_D: 0.4530\tLoss_G: 3.9458\tD(x): 0.8903\tD(G(z)): 0.2644 / 0.0256\n",
      "[4/25][0/391]\tLoss_D: 0.7705\tLoss_G: 2.7883\tD(x): 0.7904\tD(G(z)): 0.3670 / 0.0828\n",
      "[4/25][50/391]\tLoss_D: 0.3845\tLoss_G: 3.3292\tD(x): 0.8292\tD(G(z)): 0.1509 / 0.0537\n",
      "[4/25][100/391]\tLoss_D: 1.2745\tLoss_G: 6.9144\tD(x): 0.8446\tD(G(z)): 0.5930 / 0.0027\n",
      "[4/25][150/391]\tLoss_D: 2.8625\tLoss_G: 1.0026\tD(x): 0.0860\tD(G(z)): 0.0022 / 0.5165\n",
      "[4/25][200/391]\tLoss_D: 0.4592\tLoss_G: 2.9373\tD(x): 0.8169\tD(G(z)): 0.2031 / 0.0655\n",
      "[4/25][250/391]\tLoss_D: 1.6393\tLoss_G: 0.7450\tD(x): 0.3219\tD(G(z)): 0.2237 / 0.5266\n",
      "[4/25][300/391]\tLoss_D: 0.8281\tLoss_G: 2.3180\tD(x): 0.8025\tD(G(z)): 0.4209 / 0.1226\n",
      "[4/25][350/391]\tLoss_D: 0.4707\tLoss_G: 2.6034\tD(x): 0.7004\tD(G(z)): 0.0641 / 0.1131\n",
      "[5/25][0/391]\tLoss_D: 0.4447\tLoss_G: 2.1856\tD(x): 0.7575\tD(G(z)): 0.1264 / 0.1439\n",
      "[5/25][50/391]\tLoss_D: 0.6284\tLoss_G: 1.7481\tD(x): 0.6374\tD(G(z)): 0.0710 / 0.2255\n",
      "[5/25][100/391]\tLoss_D: 1.0931\tLoss_G: 1.6825\tD(x): 0.5045\tD(G(z)): 0.1808 / 0.2474\n",
      "[5/25][150/391]\tLoss_D: 1.2524\tLoss_G: 1.3515\tD(x): 0.3745\tD(G(z)): 0.0239 / 0.3165\n",
      "[5/25][200/391]\tLoss_D: 0.6175\tLoss_G: 2.8695\tD(x): 0.7912\tD(G(z)): 0.2608 / 0.0846\n",
      "[5/25][250/391]\tLoss_D: 0.4178\tLoss_G: 3.5406\tD(x): 0.7743\tD(G(z)): 0.1174 / 0.0478\n",
      "[5/25][300/391]\tLoss_D: 1.2486\tLoss_G: 5.5125\tD(x): 0.9244\tD(G(z)): 0.6269 / 0.0060\n",
      "[5/25][350/391]\tLoss_D: 0.6446\tLoss_G: 2.3273\tD(x): 0.6953\tD(G(z)): 0.1893 / 0.1272\n",
      "[6/25][0/391]\tLoss_D: 1.0654\tLoss_G: 1.4368\tD(x): 0.4583\tD(G(z)): 0.0427 / 0.2989\n",
      "[6/25][50/391]\tLoss_D: 0.8591\tLoss_G: 3.6313\tD(x): 0.8800\tD(G(z)): 0.4598 / 0.0417\n",
      "[6/25][100/391]\tLoss_D: 3.0753\tLoss_G: 0.2256\tD(x): 0.0693\tD(G(z)): 0.0281 / 0.8214\n",
      "[6/25][150/391]\tLoss_D: 0.9878\tLoss_G: 2.5722\tD(x): 0.4485\tD(G(z)): 0.0376 / 0.1089\n",
      "[6/25][200/391]\tLoss_D: 0.8091\tLoss_G: 1.8538\tD(x): 0.5619\tD(G(z)): 0.1452 / 0.1881\n",
      "[6/25][250/391]\tLoss_D: 0.3292\tLoss_G: 3.2156\tD(x): 0.8166\tD(G(z)): 0.0974 / 0.0565\n",
      "[6/25][300/391]\tLoss_D: 0.5978\tLoss_G: 4.1276\tD(x): 0.9139\tD(G(z)): 0.3650 / 0.0215\n",
      "[6/25][350/391]\tLoss_D: 1.4254\tLoss_G: 1.7047\tD(x): 0.3486\tD(G(z)): 0.0552 / 0.2508\n",
      "[7/25][0/391]\tLoss_D: 0.9354\tLoss_G: 5.8470\tD(x): 0.9576\tD(G(z)): 0.5363 / 0.0051\n",
      "[7/25][50/391]\tLoss_D: 0.2711\tLoss_G: 3.6932\tD(x): 0.8979\tD(G(z)): 0.1384 / 0.0354\n",
      "[7/25][100/391]\tLoss_D: 0.2732\tLoss_G: 3.4724\tD(x): 0.9218\tD(G(z)): 0.1636 / 0.0403\n",
      "[7/25][150/391]\tLoss_D: 0.9336\tLoss_G: 4.8762\tD(x): 0.9787\tD(G(z)): 0.5351 / 0.0144\n",
      "[7/25][200/391]\tLoss_D: 1.1227\tLoss_G: 0.8649\tD(x): 0.4051\tD(G(z)): 0.0684 / 0.4794\n",
      "[7/25][250/391]\tLoss_D: 0.1940\tLoss_G: 3.6435\tD(x): 0.8854\tD(G(z)): 0.0651 / 0.0335\n",
      "[7/25][300/391]\tLoss_D: 0.7520\tLoss_G: 1.4785\tD(x): 0.5825\tD(G(z)): 0.0970 / 0.2825\n",
      "[7/25][350/391]\tLoss_D: 0.2689\tLoss_G: 4.5441\tD(x): 0.9495\tD(G(z)): 0.1846 / 0.0146\n",
      "[8/25][0/391]\tLoss_D: 1.0623\tLoss_G: 1.3164\tD(x): 0.5516\tD(G(z)): 0.3013 / 0.3109\n",
      "[8/25][50/391]\tLoss_D: 0.3819\tLoss_G: 6.1389\tD(x): 0.9720\tD(G(z)): 0.2774 / 0.0033\n",
      "[8/25][100/391]\tLoss_D: 0.4960\tLoss_G: 4.2545\tD(x): 0.9182\tD(G(z)): 0.2993 / 0.0211\n",
      "[8/25][150/391]\tLoss_D: 0.2130\tLoss_G: 3.9506\tD(x): 0.9563\tD(G(z)): 0.1451 / 0.0273\n",
      "[8/25][200/391]\tLoss_D: 1.2979\tLoss_G: 2.4957\tD(x): 0.8257\tD(G(z)): 0.6024 / 0.1190\n",
      "[8/25][250/391]\tLoss_D: 0.9795\tLoss_G: 1.2728\tD(x): 0.5006\tD(G(z)): 0.1547 / 0.3320\n",
      "[8/25][300/391]\tLoss_D: 0.4342\tLoss_G: 2.3504\tD(x): 0.7967\tD(G(z)): 0.1643 / 0.1239\n",
      "[8/25][350/391]\tLoss_D: 0.1161\tLoss_G: 3.5515\tD(x): 0.9233\tD(G(z)): 0.0335 / 0.0351\n",
      "[9/25][0/391]\tLoss_D: 2.1652\tLoss_G: 0.8481\tD(x): 0.1599\tD(G(z)): 0.0910 / 0.4832\n",
      "[9/25][50/391]\tLoss_D: 0.5868\tLoss_G: 2.4355\tD(x): 0.6667\tD(G(z)): 0.1221 / 0.1193\n",
      "[9/25][100/391]\tLoss_D: 0.0661\tLoss_G: 3.8459\tD(x): 0.9576\tD(G(z)): 0.0215 / 0.0292\n",
      "[9/25][150/391]\tLoss_D: 0.1230\tLoss_G: 3.8419\tD(x): 0.9633\tD(G(z)): 0.0779 / 0.0318\n",
      "[9/25][200/391]\tLoss_D: 0.1370\tLoss_G: 3.5001\tD(x): 0.9385\tD(G(z)): 0.0661 / 0.0384\n",
      "[9/25][250/391]\tLoss_D: 7.7900\tLoss_G: 7.8425\tD(x): 1.0000\tD(G(z)): 0.9992 / 0.0006\n",
      "[9/25][300/391]\tLoss_D: 0.8348\tLoss_G: 3.9492\tD(x): 0.8740\tD(G(z)): 0.4570 / 0.0259\n",
      "[9/25][350/391]\tLoss_D: 0.1965\tLoss_G: 4.4490\tD(x): 0.9601\tD(G(z)): 0.1390 / 0.0153\n",
      "[10/25][0/391]\tLoss_D: 0.5630\tLoss_G: 0.6898\tD(x): 0.6688\tD(G(z)): 0.1036 / 0.5420\n",
      "[10/25][50/391]\tLoss_D: 0.6951\tLoss_G: 1.9544\tD(x): 0.5783\tD(G(z)): 0.0397 / 0.1840\n",
      "[10/25][100/391]\tLoss_D: 1.1584\tLoss_G: 0.9332\tD(x): 0.3920\tD(G(z)): 0.0959 / 0.4431\n",
      "[10/25][150/391]\tLoss_D: 1.3238\tLoss_G: 1.1019\tD(x): 0.3405\tD(G(z)): 0.0643 / 0.3817\n",
      "[10/25][200/391]\tLoss_D: 0.6587\tLoss_G: 2.8433\tD(x): 0.7793\tD(G(z)): 0.2932 / 0.0761\n",
      "[10/25][250/391]\tLoss_D: 1.8262\tLoss_G: 3.1617\tD(x): 0.9553\tD(G(z)): 0.7660 / 0.0658\n",
      "[10/25][300/391]\tLoss_D: 0.9709\tLoss_G: 7.1748\tD(x): 0.9558\tD(G(z)): 0.5546 / 0.0012\n",
      "[10/25][350/391]\tLoss_D: 0.1028\tLoss_G: 3.7195\tD(x): 0.9389\tD(G(z)): 0.0366 / 0.0311\n",
      "[11/25][0/391]\tLoss_D: 0.2049\tLoss_G: 3.8568\tD(x): 0.9575\tD(G(z)): 0.1426 / 0.0280\n",
      "[11/25][50/391]\tLoss_D: 0.0906\tLoss_G: 3.8880\tD(x): 0.9689\tD(G(z)): 0.0559 / 0.0281\n",
      "[11/25][100/391]\tLoss_D: 0.4760\tLoss_G: 2.3981\tD(x): 0.7352\tD(G(z)): 0.1281 / 0.1122\n",
      "[11/25][150/391]\tLoss_D: 1.5054\tLoss_G: 4.4307\tD(x): 0.9471\tD(G(z)): 0.6826 / 0.0200\n",
      "[11/25][200/391]\tLoss_D: 0.6145\tLoss_G: 4.5805\tD(x): 0.9595\tD(G(z)): 0.3974 / 0.0144\n",
      "[11/25][250/391]\tLoss_D: 0.1201\tLoss_G: 3.5689\tD(x): 0.9549\tD(G(z)): 0.0691 / 0.0366\n",
      "[11/25][300/391]\tLoss_D: 0.0728\tLoss_G: 4.3968\tD(x): 0.9856\tD(G(z)): 0.0556 / 0.0154\n",
      "[11/25][350/391]\tLoss_D: 0.3108\tLoss_G: 3.7703\tD(x): 0.9108\tD(G(z)): 0.1811 / 0.0305\n",
      "[12/25][0/391]\tLoss_D: 0.9126\tLoss_G: 2.0321\tD(x): 0.4842\tD(G(z)): 0.0578 / 0.1793\n",
      "[12/25][50/391]\tLoss_D: 4.2256\tLoss_G: 1.7500\tD(x): 0.0243\tD(G(z)): 0.0024 / 0.2394\n",
      "[12/25][100/391]\tLoss_D: 0.8179\tLoss_G: 2.6232\tD(x): 0.8031\tD(G(z)): 0.4057 / 0.0967\n",
      "[12/25][150/391]\tLoss_D: 0.5605\tLoss_G: 2.0357\tD(x): 0.7299\tD(G(z)): 0.1817 / 0.1676\n",
      "[12/25][200/391]\tLoss_D: 0.7430\tLoss_G: 1.9250\tD(x): 0.6629\tD(G(z)): 0.2286 / 0.1764\n",
      "[12/25][250/391]\tLoss_D: 0.7861\tLoss_G: 1.8020\tD(x): 0.8465\tD(G(z)): 0.4146 / 0.1999\n",
      "[12/25][300/391]\tLoss_D: 0.5385\tLoss_G: 2.2311\tD(x): 0.7291\tD(G(z)): 0.1702 / 0.1397\n",
      "[12/25][350/391]\tLoss_D: 0.3333\tLoss_G: 4.2178\tD(x): 0.7560\tD(G(z)): 0.0234 / 0.0222\n",
      "[13/25][0/391]\tLoss_D: 1.0103\tLoss_G: 1.3524\tD(x): 0.4730\tD(G(z)): 0.1416 / 0.3096\n",
      "[13/25][50/391]\tLoss_D: 0.6271\tLoss_G: 2.2162\tD(x): 0.7051\tD(G(z)): 0.1926 / 0.1289\n",
      "[13/25][100/391]\tLoss_D: 0.8407\tLoss_G: 1.1498\tD(x): 0.5248\tD(G(z)): 0.0994 / 0.3608\n",
      "[13/25][150/391]\tLoss_D: 0.0707\tLoss_G: 3.8102\tD(x): 0.9733\tD(G(z)): 0.0419 / 0.0301\n",
      "[13/25][200/391]\tLoss_D: 0.0700\tLoss_G: 3.7812\tD(x): 0.9650\tD(G(z)): 0.0327 / 0.0306\n",
      "[13/25][250/391]\tLoss_D: 0.0179\tLoss_G: 6.6160\tD(x): 0.9846\tD(G(z)): 0.0022 / 0.0022\n",
      "[13/25][300/391]\tLoss_D: 0.3023\tLoss_G: 3.4696\tD(x): 0.8628\tD(G(z)): 0.1317 / 0.0420\n",
      "[13/25][350/391]\tLoss_D: 0.7049\tLoss_G: 4.0475\tD(x): 0.8660\tD(G(z)): 0.3826 / 0.0248\n",
      "[14/25][0/391]\tLoss_D: 0.7462\tLoss_G: 2.6498\tD(x): 0.7354\tD(G(z)): 0.3019 / 0.0944\n",
      "[14/25][50/391]\tLoss_D: 0.9323\tLoss_G: 1.5445\tD(x): 0.4917\tD(G(z)): 0.0656 / 0.2550\n",
      "[14/25][100/391]\tLoss_D: 0.0953\tLoss_G: 3.9380\tD(x): 0.9473\tD(G(z)): 0.0383 / 0.0276\n",
      "[14/25][150/391]\tLoss_D: 0.7583\tLoss_G: 2.1857\tD(x): 0.6855\tD(G(z)): 0.2678 / 0.1371\n",
      "[14/25][200/391]\tLoss_D: 0.8804\tLoss_G: 2.1997\tD(x): 0.8120\tD(G(z)): 0.4200 / 0.1543\n",
      "[14/25][250/391]\tLoss_D: 0.7738\tLoss_G: 1.7887\tD(x): 0.6044\tD(G(z)): 0.1628 / 0.2047\n",
      "[14/25][300/391]\tLoss_D: 0.1176\tLoss_G: 3.6283\tD(x): 0.9939\tD(G(z)): 0.0982 / 0.0369\n",
      "[14/25][350/391]\tLoss_D: 0.0154\tLoss_G: 5.3807\tD(x): 0.9962\tD(G(z)): 0.0115 / 0.0072\n",
      "[15/25][0/391]\tLoss_D: 0.6937\tLoss_G: 2.9518\tD(x): 0.8868\tD(G(z)): 0.3753 / 0.0813\n",
      "[15/25][50/391]\tLoss_D: 0.4586\tLoss_G: 2.7979\tD(x): 0.8494\tD(G(z)): 0.2347 / 0.0788\n",
      "[15/25][100/391]\tLoss_D: 0.6892\tLoss_G: 2.7324\tD(x): 0.8399\tD(G(z)): 0.3644 / 0.0829\n",
      "[15/25][150/391]\tLoss_D: 1.5835\tLoss_G: 7.7525\tD(x): 0.9973\tD(G(z)): 0.7444 / 0.0007\n",
      "[15/25][200/391]\tLoss_D: 0.3507\tLoss_G: 3.0587\tD(x): 0.9625\tD(G(z)): 0.2519 / 0.0591\n",
      "[15/25][250/391]\tLoss_D: 0.0828\tLoss_G: 4.4560\tD(x): 0.9384\tD(G(z)): 0.0172 / 0.0173\n",
      "[15/25][300/391]\tLoss_D: 1.0944\tLoss_G: 1.3909\tD(x): 0.4454\tD(G(z)): 0.0695 / 0.3006\n",
      "[15/25][350/391]\tLoss_D: 2.2183\tLoss_G: 1.9963\tD(x): 0.1571\tD(G(z)): 0.0165 / 0.2007\n",
      "[16/25][0/391]\tLoss_D: 0.7777\tLoss_G: 3.4650\tD(x): 0.8829\tD(G(z)): 0.4333 / 0.0416\n",
      "[16/25][50/391]\tLoss_D: 0.0304\tLoss_G: 5.5462\tD(x): 0.9746\tD(G(z)): 0.0045 / 0.0055\n",
      "[16/25][100/391]\tLoss_D: 0.9080\tLoss_G: 2.4986\tD(x): 0.7850\tD(G(z)): 0.4448 / 0.1023\n",
      "[16/25][150/391]\tLoss_D: 0.5253\tLoss_G: 2.0459\tD(x): 0.7372\tD(G(z)): 0.1629 / 0.1625\n",
      "[16/25][200/391]\tLoss_D: 0.8995\tLoss_G: 5.4564\tD(x): 0.9493\tD(G(z)): 0.5225 / 0.0065\n",
      "[16/25][250/391]\tLoss_D: 0.0657\tLoss_G: 4.0565\tD(x): 0.9771\tD(G(z)): 0.0404 / 0.0242\n",
      "[16/25][300/391]\tLoss_D: 0.6307\tLoss_G: 2.0324\tD(x): 0.6194\tD(G(z)): 0.0745 / 0.1689\n",
      "[16/25][350/391]\tLoss_D: 0.2615\tLoss_G: 3.3389\tD(x): 0.9001\tD(G(z)): 0.1372 / 0.0446\n",
      "[17/25][0/391]\tLoss_D: 0.8624\tLoss_G: 4.1641\tD(x): 0.9076\tD(G(z)): 0.4943 / 0.0203\n",
      "[17/25][50/391]\tLoss_D: 0.0353\tLoss_G: 4.4219\tD(x): 0.9899\tD(G(z)): 0.0246 / 0.0165\n",
      "[17/25][100/391]\tLoss_D: 0.9186\tLoss_G: 2.6507\tD(x): 0.5337\tD(G(z)): 0.1170 / 0.1048\n",
      "[17/25][150/391]\tLoss_D: 1.1887\tLoss_G: 3.5429\tD(x): 0.8846\tD(G(z)): 0.5738 / 0.0411\n",
      "[17/25][200/391]\tLoss_D: 0.1067\tLoss_G: 4.4214\tD(x): 0.9211\tD(G(z)): 0.0207 / 0.0179\n",
      "[17/25][250/391]\tLoss_D: 0.8763\tLoss_G: 3.1785\tD(x): 0.7720\tD(G(z)): 0.3991 / 0.0574\n",
      "[17/25][300/391]\tLoss_D: 0.3435\tLoss_G: 2.4248\tD(x): 0.8303\tD(G(z)): 0.1269 / 0.1136\n",
      "[17/25][350/391]\tLoss_D: 0.0578\tLoss_G: 4.5283\tD(x): 0.9634\tD(G(z)): 0.0194 / 0.0165\n",
      "[18/25][0/391]\tLoss_D: 0.4343\tLoss_G: 3.0835\tD(x): 0.8201\tD(G(z)): 0.1863 / 0.0625\n",
      "[18/25][50/391]\tLoss_D: 0.6804\tLoss_G: 2.7281\tD(x): 0.5970\tD(G(z)): 0.0801 / 0.0864\n",
      "[18/25][100/391]\tLoss_D: 0.1166\tLoss_G: 4.2684\tD(x): 0.9781\tD(G(z)): 0.0875 / 0.0184\n",
      "[18/25][150/391]\tLoss_D: 0.0212\tLoss_G: 8.2109\tD(x): 0.9796\tD(G(z)): 0.0003 / 0.0004\n",
      "[18/25][200/391]\tLoss_D: 0.1409\tLoss_G: 7.4924\tD(x): 0.9919\tD(G(z)): 0.1184 / 0.0009\n",
      "[18/25][250/391]\tLoss_D: 0.2946\tLoss_G: 2.8424\tD(x): 0.8376\tD(G(z)): 0.0954 / 0.0773\n",
      "[18/25][300/391]\tLoss_D: 0.4400\tLoss_G: 2.4462\tD(x): 0.8125\tD(G(z)): 0.1713 / 0.1140\n",
      "[18/25][350/391]\tLoss_D: 0.2027\tLoss_G: 3.1838\tD(x): 0.9052\tD(G(z)): 0.0864 / 0.0554\n",
      "[19/25][0/391]\tLoss_D: 0.0261\tLoss_G: 5.3300\tD(x): 0.9833\tD(G(z)): 0.0089 / 0.0071\n",
      "[19/25][50/391]\tLoss_D: 0.8687\tLoss_G: 1.3825\tD(x): 0.6101\tD(G(z)): 0.2483 / 0.2892\n",
      "[19/25][100/391]\tLoss_D: 0.7642\tLoss_G: 1.9050\tD(x): 0.5805\tD(G(z)): 0.1170 / 0.1922\n",
      "[19/25][150/391]\tLoss_D: 1.4608\tLoss_G: 1.0522\tD(x): 0.2956\tD(G(z)): 0.0517 / 0.4072\n",
      "[19/25][200/391]\tLoss_D: 0.6122\tLoss_G: 2.4649\tD(x): 0.8710\tD(G(z)): 0.3399 / 0.1062\n",
      "[19/25][250/391]\tLoss_D: 3.8306\tLoss_G: 1.6311\tD(x): 0.0361\tD(G(z)): 0.0030 / 0.2554\n",
      "[19/25][300/391]\tLoss_D: 0.1784\tLoss_G: 3.5396\tD(x): 0.9708\tD(G(z)): 0.1315 / 0.0397\n",
      "[19/25][350/391]\tLoss_D: 0.7045\tLoss_G: 2.3546\tD(x): 0.8437\tD(G(z)): 0.3673 / 0.1226\n",
      "[20/25][0/391]\tLoss_D: 0.0640\tLoss_G: 5.3006\tD(x): 0.9448\tD(G(z)): 0.0058 / 0.0074\n",
      "[20/25][50/391]\tLoss_D: 0.3562\tLoss_G: 3.4372\tD(x): 0.9032\tD(G(z)): 0.2062 / 0.0440\n",
      "[20/25][100/391]\tLoss_D: 1.4421\tLoss_G: 1.5736\tD(x): 0.3123\tD(G(z)): 0.0674 / 0.2628\n",
      "[20/25][150/391]\tLoss_D: 4.6238\tLoss_G: 1.0725\tD(x): 0.0138\tD(G(z)): 0.0021 / 0.4065\n",
      "[20/25][200/391]\tLoss_D: 1.5645\tLoss_G: 3.0174\tD(x): 0.8605\tD(G(z)): 0.7031 / 0.0673\n",
      "[20/25][250/391]\tLoss_D: 0.4204\tLoss_G: 2.9278\tD(x): 0.7306\tD(G(z)): 0.0707 / 0.0688\n",
      "[20/25][300/391]\tLoss_D: 0.0615\tLoss_G: 4.5547\tD(x): 0.9955\tD(G(z)): 0.0544 / 0.0145\n",
      "[20/25][350/391]\tLoss_D: 0.0496\tLoss_G: 6.6878\tD(x): 0.9548\tD(G(z)): 0.0027 / 0.0020\n",
      "[21/25][0/391]\tLoss_D: 0.0098\tLoss_G: 6.3347\tD(x): 0.9931\tD(G(z)): 0.0029 / 0.0027\n",
      "[21/25][50/391]\tLoss_D: 0.0214\tLoss_G: 7.2134\tD(x): 0.9798\tD(G(z)): 0.0008 / 0.0013\n",
      "[21/25][100/391]\tLoss_D: 0.2480\tLoss_G: 2.5070\tD(x): 0.8934\tD(G(z)): 0.1145 / 0.1080\n",
      "[21/25][150/391]\tLoss_D: 0.4190\tLoss_G: 2.6357\tD(x): 0.9264\tD(G(z)): 0.2607 / 0.1010\n",
      "[21/25][200/391]\tLoss_D: 0.5911\tLoss_G: 4.4275\tD(x): 0.8883\tD(G(z)): 0.3418 / 0.0176\n",
      "[21/25][250/391]\tLoss_D: 2.2452\tLoss_G: 0.7709\tD(x): 0.1593\tD(G(z)): 0.0197 / 0.5224\n",
      "[21/25][300/391]\tLoss_D: 0.7965\tLoss_G: 2.2344\tD(x): 0.8038\tD(G(z)): 0.3879 / 0.1389\n",
      "[21/25][350/391]\tLoss_D: 0.1462\tLoss_G: 3.7200\tD(x): 0.9721\tD(G(z)): 0.1061 / 0.0334\n",
      "[22/25][0/391]\tLoss_D: 0.8225\tLoss_G: 4.1319\tD(x): 0.8872\tD(G(z)): 0.4401 / 0.0227\n",
      "[22/25][50/391]\tLoss_D: 0.5701\tLoss_G: 2.0290\tD(x): 0.7391\tD(G(z)): 0.1920 / 0.1755\n",
      "[22/25][100/391]\tLoss_D: 3.4776\tLoss_G: 7.2776\tD(x): 0.9968\tD(G(z)): 0.9490 / 0.0016\n",
      "[22/25][150/391]\tLoss_D: 1.1473\tLoss_G: 1.8264\tD(x): 0.5242\tD(G(z)): 0.2620 / 0.2268\n",
      "[22/25][200/391]\tLoss_D: 0.7385\tLoss_G: 1.7046\tD(x): 0.5504\tD(G(z)): 0.0514 / 0.2349\n",
      "[22/25][250/391]\tLoss_D: 1.1823\tLoss_G: 1.7827\tD(x): 0.3835\tD(G(z)): 0.0455 / 0.2104\n",
      "[22/25][300/391]\tLoss_D: 0.0367\tLoss_G: 4.9468\tD(x): 0.9811\tD(G(z)): 0.0170 / 0.0103\n",
      "[22/25][350/391]\tLoss_D: 0.6716\tLoss_G: 3.0853\tD(x): 0.8790\tD(G(z)): 0.3790 / 0.0620\n",
      "[23/25][0/391]\tLoss_D: 0.7810\tLoss_G: 2.2526\tD(x): 0.7694\tD(G(z)): 0.3337 / 0.1453\n",
      "[23/25][50/391]\tLoss_D: 0.9105\tLoss_G: 1.4588\tD(x): 0.4948\tD(G(z)): 0.0831 / 0.2974\n",
      "[23/25][100/391]\tLoss_D: 0.5734\tLoss_G: 3.2810\tD(x): 0.9008\tD(G(z)): 0.3338 / 0.0539\n",
      "[23/25][150/391]\tLoss_D: 1.1584\tLoss_G: 1.8661\tD(x): 0.3917\tD(G(z)): 0.0521 / 0.1932\n",
      "[23/25][200/391]\tLoss_D: 0.7767\tLoss_G: 5.2062\tD(x): 0.9982\tD(G(z)): 0.4978 / 0.0080\n",
      "[23/25][250/391]\tLoss_D: 0.8884\tLoss_G: 1.4672\tD(x): 0.5210\tD(G(z)): 0.1551 / 0.2783\n",
      "[23/25][300/391]\tLoss_D: 0.3019\tLoss_G: 3.6706\tD(x): 0.9240\tD(G(z)): 0.1861 / 0.0339\n",
      "[23/25][350/391]\tLoss_D: 0.0429\tLoss_G: 4.6113\tD(x): 0.9821\tD(G(z)): 0.0242 / 0.0141\n",
      "[24/25][0/391]\tLoss_D: 2.4468\tLoss_G: 6.9300\tD(x): 0.1228\tD(G(z)): 0.0007 / 0.0016\n",
      "[24/25][50/391]\tLoss_D: 0.7680\tLoss_G: 3.6033\tD(x): 0.9041\tD(G(z)): 0.4280 / 0.0420\n",
      "[24/25][100/391]\tLoss_D: 1.1187\tLoss_G: 0.9826\tD(x): 0.4004\tD(G(z)): 0.0225 / 0.4327\n",
      "[24/25][150/391]\tLoss_D: 0.2283\tLoss_G: 2.1456\tD(x): 0.9384\tD(G(z)): 0.1386 / 0.1519\n",
      "[24/25][200/391]\tLoss_D: 0.2935\tLoss_G: 3.8890\tD(x): 0.8194\tD(G(z)): 0.0712 / 0.0322\n",
      "[24/25][250/391]\tLoss_D: 0.6818\tLoss_G: 2.1821\tD(x): 0.6038\tD(G(z)): 0.0955 / 0.1531\n",
      "[24/25][300/391]\tLoss_D: 0.1697\tLoss_G: 5.3666\tD(x): 0.9970\tD(G(z)): 0.1479 / 0.0064\n",
      "[24/25][350/391]\tLoss_D: 0.6321\tLoss_G: 1.8366\tD(x): 0.7017\tD(G(z)): 0.1985 / 0.2022\n"
     ]
    }
   ],
   "source": [
    "print(\"Starting Training Loop...\")\n",
    "\n",
    "for epoch in range(num_epochs):\n",
    "    for i, data in enumerate(train_loader, 0):\n",
    "        # Training discriminator with real data\n",
    "        discriminator.zero_grad()\n",
    "        real = data[0].to(device)\n",
    "        b_size = real.size(0)\n",
    "        label = torch.full((b_size,), 1, dtype=torch.float, device=device)\n",
    "        output = discriminator(real).view(-1)\n",
    "        errD_real = criterion(output, label)\n",
    "        errD_real.backward()\n",
    "        D_x = output.mean().item()\n",
    "        \n",
    "        # Training discriminator with fake data\n",
    "        noise = torch.randn(b_size, noise_dim, 1, 1, device=device)\n",
    "        fake = generator(noise)\n",
    "        label.fill_(0)\n",
    "        output = discriminator(fake.detach()).view(-1)\n",
    "        errD_fake = criterion(output, label)\n",
    "        errD_fake.backward()\n",
    "        D_G_z1 = output.mean().item()\n",
    "        errD = errD_real + errD_fake\n",
    "        optimizerD.step()\n",
    "        \n",
    "        # Training generator\n",
    "        generator.zero_grad()\n",
    "        label.fill_(1)\n",
    "        output = discriminator(fake).view(-1)\n",
    "        errG = criterion(output, label)\n",
    "        errG.backward()\n",
    "        D_G_z2 = output.mean().item()\n",
    "        optimizerG.step()\n",
    "\n",
    "        # Output training stats.\n",
    "        if i % 50 == 0:\n",
    "            print('[%d/%d][%d/%d]\\tLoss_D: %.4f\\tLoss_G: %.4f\\tD(x): %.4f\\tD(G(z)): %.4f / %.4f'\n",
    "                  % (epoch, num_epochs, i, len(train_loader),\n",
    "                     errD.item(), errG.item(), D_x, D_G_z1, D_G_z2))\n",
    "            \n",
    "        G_losses.append(errG.item())\n",
    "        D_losses.append(errD.item())\n",
    "\n",
    "        # saving generators output\n",
    "        if (iters % 500 == 0) or ((epoch == num_epochs-1) and (i == len(train_loader)-1)):\n",
    "            with torch.no_grad():\n",
    "                fake = generator(fixed_noise).detach().cpu()\n",
    "            img_list.append(fake)\n",
    "\n",
    "        iters += 1"
   ]
  },
  {
   "cell_type": "code",
   "execution_count": 10,
   "id": "91a7be7f",
   "metadata": {
    "execution": {
     "iopub.execute_input": "2023-11-21T21:59:50.633409Z",
     "iopub.status.busy": "2023-11-21T21:59:50.633087Z",
     "iopub.status.idle": "2023-11-21T21:59:51.315946Z",
     "shell.execute_reply": "2023-11-21T21:59:51.315033Z"
    },
    "papermill": {
     "duration": 0.709968,
     "end_time": "2023-11-21T21:59:51.318108",
     "exception": false,
     "start_time": "2023-11-21T21:59:50.608140",
     "status": "completed"
    },
    "tags": []
   },
   "outputs": [
    {
     "data": {
      "image/png": "[encoded data removed]",
      "text/plain": [
       "<Figure size 1000x500 with 1 Axes>"
      ]
     },
     "metadata": {},
     "output_type": "display_data"
    },
    {
     "data": {
      "image/png": "[encoded data removed]",
      "text/plain": [
       "<Figure size 1000x1000 with 2 Axes>"
      ]
     },
     "metadata": {},
     "output_type": "display_data"
    }
   ],
   "source": [
    "# Save the model checkpoints.\n",
    "torch.save(generator.state_dict(), 'gen.pth')\n",
    "torch.save(discriminator.state_dict(), 'disc.pth')\n",
    "\n",
    "# Plot the training losses.\n",
    "plt.figure(figsize=(10,5))\n",
    "plt.title(\"Generator and Discriminator Loss During Training\")\n",
    "plt.plot(G_losses,label=\"G\")\n",
    "plt.plot(D_losses,label=\"D\")\n",
    "plt.xlabel(\"iterations\")\n",
    "plt.ylabel(\"Loss\")\n",
    "plt.legend()\n",
    "plt.show()\n",
    "\n",
    "# Plot the original images and the generated images.\n",
    "plt.figure(figsize=(10,10))\n",
    "plt.subplot(1,2,1)\n",
    "plt.axis(\"off\")\n",
    "plt.title(\"Original Images\")\n",
    "plt.imshow(np.transpose(train_dataset[0][0],(1,2,0)))\n",
    "plt.subplot(1,2,2)\n",
    "plt.axis(\"off\")\n",
    "plt.title(\"Generated Images\")\n",
    "plt.imshow(np.transpose(img_list[-1][0],(1,2,0)))\n",
    "plt.show()"
   ]
  },
  {
   "cell_type": "code",
   "execution_count": 11,
   "id": "65ddc18f",
   "metadata": {
    "execution": {
     "iopub.execute_input": "2023-11-21T21:59:51.368971Z",
     "iopub.status.busy": "2023-11-21T21:59:51.368668Z",
     "iopub.status.idle": "2023-11-21T21:59:51.638853Z",
     "shell.execute_reply": "2023-11-21T21:59:51.638129Z"
    },
    "papermill": {
     "duration": 0.297892,
     "end_time": "2023-11-21T21:59:51.640936",
     "exception": false,
     "start_time": "2023-11-21T21:59:51.343044",
     "status": "completed"
    },
    "tags": []
   },
   "outputs": [],
   "source": [
    "# generate 10 images using the trained generator and save them in a folder.\n",
    "import os\n",
    "os.makedirs('images', exist_ok=True)\n",
    "imgs = []\n",
    "with torch.no_grad():\n",
    "    for i in range(10):\n",
    "        noise = torch.randn(1, noise_dim, 1, 1, device=device)\n",
    "        fake = generator(noise).detach().cpu()\n",
    "        plt.figure(figsize=(1,1))\n",
    "        plt.axis(\"off\")\n",
    "        plt.imshow(np.transpose(fake[0],(1,2,0)))\n",
    "        plt.savefig('images/fake_image_%d.png' % i)\n",
    "        plt.close()"
   ]
  },
  {
   "cell_type": "code",
   "execution_count": 12,
   "id": "019cc6ad",
   "metadata": {
    "execution": {
     "iopub.execute_input": "2023-11-21T21:59:51.692091Z",
     "iopub.status.busy": "2023-11-21T21:59:51.691499Z",
     "iopub.status.idle": "2023-11-21T21:59:52.392841Z",
     "shell.execute_reply": "2023-11-21T21:59:52.392037Z"
    },
    "papermill": {
     "duration": 0.729254,
     "end_time": "2023-11-21T21:59:52.395148",
     "exception": false,
     "start_time": "2023-11-21T21:59:51.665894",
     "status": "completed"
    },
    "tags": []
   },
   "outputs": [
    {
     "name": "stderr",
     "output_type": "stream",
     "text": [
      "/opt/conda/lib/python3.10/site-packages/scipy/__init__.py:146: UserWarning: A NumPy version >=1.16.5 and <1.23.0 is required for this version of SciPy (detected version 1.24.3\n",
      "  warnings.warn(f\"A NumPy version >={np_minversion} and <{np_maxversion}\"\n"
     ]
    }
   ],
   "source": [
    "# report inception score on the generated images.\n",
    "import torch\n",
    "from torch import nn\n",
    "from torch.autograd import Variable\n",
    "from torch.nn import functional as F\n",
    "import torch.utils.data\n",
    "\n",
    "from torchvision.models.inception import inception_v3\n",
    "\n",
    "import numpy as np\n",
    "from scipy.stats import entropy\n",
    "\n",
    "def inception_score(imgs, cuda=True, batch_size=1, resize=False, splits=1):\n",
    "    \"\"\"Computes the inception score of the generated images imgs\n",
    "\n",
    "    imgs -- Torch dataset of (3xHxW) numpy images normalized in the range [-1, 1]\n",
    "    cuda -- whether or not to run on GPU\n",
    "    batch_size -- batch size for feeding into Inception v3\n",
    "    splits -- number of splits\n",
    "    \"\"\"\n",
    "    N = len(imgs)\n",
    "\n",
    "    assert batch_size > 0\n",
    "    assert N > batch_size\n",
    "\n",
    "    # Set up dtype\n",
    "    if cuda:\n",
    "        dtype = torch.cuda.FloatTensor\n",
    "    else:\n",
    "        if torch.cuda.is_available():\n",
    "            print(\"WARNING: You have a CUDA device, so you should probably set cuda=True\")\n",
    "        dtype = torch.FloatTensor\n",
    "\n",
    "    # Set up dataloader\n",
    "    dataloader = torch.utils.data.DataLoader(imgs, batch_size=batch_size)\n",
    "\n",
    "    # Load inception model\n",
    "    inception_model = inception_v3(pretrained=True, transform_input=False).type(dtype)\n",
    "    inception_model.eval();\n",
    "    up = nn.Upsample(size=(299, 299), mode='bilinear').type(dtype)\n",
    "    def get_pred(x):\n",
    "        if resize:\n",
    "            x = up(x)\n",
    "        x = inception_model(x)\n",
    "        return F.softmax(x).data.cpu().numpy()\n",
    "\n",
    "    # Get predictions\n",
    "    preds = np.zeros((N, 1000))\n",
    "\n",
    "    for i, batch in enumerate(dataloader, 0):\n",
    "        batch = batch.type(dtype)\n",
    "        batchv = Variable(batch)\n",
    "        batch_size_i = batch.size()[0]\n",
    "\n",
    "        preds[i*batch_size:i*batch_size + batch_size_i] = get_pred(batchv)\n",
    "\n",
    "    # Now compute the mean kl-div\n",
    "    split_scores = []\n",
    "\n",
    "    for k in range(splits):\n",
    "        part = preds[k * (N // splits): (k+1) * (N // splits), :]\n",
    "        py = np.mean(part, axis=0)\n",
    "        scores = []\n",
    "        for i in range(part.shape[0]):\n",
    "            pyx = part[i, :]\n",
    "            scores.append(entropy(pyx, py))\n",
    "        split_scores.append(np.exp(np.mean(scores)))\n",
    "\n",
    "    return np.mean(split_scores), np.std(split_scores)    "
   ]
  },
  {
   "cell_type": "code",
   "execution_count": 13,
   "id": "ece57c95",
   "metadata": {
    "execution": {
     "iopub.execute_input": "2023-11-21T21:59:52.446663Z",
     "iopub.status.busy": "2023-11-21T21:59:52.446366Z",
     "iopub.status.idle": "2023-11-21T21:59:54.909423Z",
     "shell.execute_reply": "2023-11-21T21:59:54.908418Z"
    },
    "papermill": {
     "duration": 2.491462,
     "end_time": "2023-11-21T21:59:54.911901",
     "exception": false,
     "start_time": "2023-11-21T21:59:52.420439",
     "status": "completed"
    },
    "tags": []
   },
   "outputs": [
    {
     "name": "stdout",
     "output_type": "stream",
     "text": [
      "Calculating Inception Score...\n"
     ]
    },
    {
     "name": "stderr",
     "output_type": "stream",
     "text": [
      "/opt/conda/lib/python3.10/site-packages/torchvision/models/_utils.py:208: UserWarning: The parameter 'pretrained' is deprecated since 0.13 and may be removed in the future, please use 'weights' instead.\n",
      "  warnings.warn(\n",
      "/opt/conda/lib/python3.10/site-packages/torchvision/models/_utils.py:223: UserWarning: Arguments other than a weight enum or `None` for 'weights' are deprecated since 0.13 and may be removed in the future. The current behavior is equivalent to passing `weights=Inception_V3_Weights.IMAGENET1K_V1`. You can also use `weights=Inception_V3_Weights.DEFAULT` to get the most up-to-date weights.\n",
      "  warnings.warn(msg)\n",
      "Downloading: \"https://download.pytorch.org/models/inception_v3_google-0cc3c7bd.pth\" to /root/.cache/torch/hub/checkpoints/inception_v3_google-0cc3c7bd.pth\n",
      "100%|██████████| 104M/104M [00:01<00:00, 68.7MB/s]\n"
     ]
    },
    {
     "name": "stdout",
     "output_type": "stream",
     "text": [
      "(1.0, 0.0)\n"
     ]
    },
    {
     "name": "stderr",
     "output_type": "stream",
     "text": [
      "/tmp/ipykernel_27/85553272.py:45: UserWarning: Implicit dimension choice for softmax has been deprecated. Change the call to include dim=X as an argument.\n",
      "  return F.softmax(x).data.cpu().numpy()\n"
     ]
    }
   ],
   "source": [
    "from torchvision import datasets, transforms\n",
    "from torch.utils.data import DataLoader, Dataset\n",
    "from PIL import Image\n",
    "import os\n",
    "\n",
    "class CustomImageFolder(Dataset):\n",
    "    def __init__(self, root, transform=None):\n",
    "        self.root = root\n",
    "        self.transform = transform\n",
    "        self.image_files = os.listdir(root)\n",
    "\n",
    "    def __len__(self):\n",
    "        return len(self.image_files)\n",
    "\n",
    "    def __getitem__(self, idx):\n",
    "        img_path = os.path.join(self.root, self.image_files[idx])\n",
    "        img = Image.open(img_path).convert('RGB')\n",
    "        if self.transform:\n",
    "            img = self.transform(img)\n",
    "        return img\n",
    "\n",
    "transform=transforms.Compose([\n",
    "                               transforms.Resize(64),\n",
    "                               transforms.ToTensor(),\n",
    "                               transforms.Normalize((0.5, 0.5, 0.5), (0.5, 0.5, 0.5)),\n",
    "                           ])\n",
    "\n",
    "dataset = CustomImageFolder(root='images', transform=transform)\n",
    "\n",
    "print(\"Calculating Inception Score...\")\n",
    "print(inception_score(dataset, cuda=True, batch_size=1, resize=True, splits=10))"
   ]
  }
 ],
 "metadata": {
  "kaggle": {
   "accelerator": "gpu",
   "dataSources": [],
   "dockerImageVersionId": 30588,
   "isGpuEnabled": true,
   "isInternetEnabled": true,
   "language": "python",
   "sourceType": "notebook"
  },
  "kernelspec": {
   "display_name": "Python 3",
   "language": "python",
   "name": "python3"
  },
  "language_info": {
   "codemirror_mode": {
    "name": "ipython",
    "version": 3
   },
   "file_extension": ".py",
   "mimetype": "text/x-python",
   "name": "python",
   "nbconvert_exporter": "python",
   "pygments_lexer": "ipython3",
   "version": "3.10.12"
  },
  "papermill": {
   "default_parameters": {},
   "duration": 1262.852076,
   "end_time": "2023-11-21T21:59:56.463167",
   "environment_variables": {},
   "exception": null,
   "input_path": "__notebook__.ipynb",
   "output_path": "__notebook__.ipynb",
   "parameters": {},
   "start_time": "2023-11-21T21:38:53.611091",
   "version": "2.4.0"
  }
 },
 "nbformat": 4,
 "nbformat_minor": 5
}
